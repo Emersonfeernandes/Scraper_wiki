{
 "cells": [
  {
   "cell_type": "code",
   "execution_count": 15,
   "metadata": {},
   "outputs": [
    {
     "name": "stdout",
     "output_type": "stream",
     "text": [
      "Requirement already satisfied: requests in c:\\users\\emers\\anaconda3\\lib\\site-packages (2.24.0)\n",
      "Requirement already satisfied: idna<3,>=2.5 in c:\\users\\emers\\anaconda3\\lib\\site-packages (from requests) (2.10)\n",
      "Requirement already satisfied: chardet<4,>=3.0.2 in c:\\users\\emers\\anaconda3\\lib\\site-packages (from requests) (3.0.4)\n",
      "Requirement already satisfied: certifi>=2017.4.17 in c:\\users\\emers\\anaconda3\\lib\\site-packages (from requests) (2020.6.20)\n",
      "Requirement already satisfied: urllib3!=1.25.0,!=1.25.1,<1.26,>=1.21.1 in c:\\users\\emers\\anaconda3\\lib\\site-packages (from requests) (1.25.11)\n"
     ]
    }
   ],
   "source": [
    "!pip install requests"
   ]
  },
  {
   "cell_type": "code",
   "execution_count": 1,
   "metadata": {},
   "outputs": [],
   "source": [
    "from requests import get\n",
    "resposta = get('https://pt.wikipedia.org/wiki/Eminem')"
   ]
  },
  {
   "cell_type": "code",
   "execution_count": 2,
   "metadata": {},
   "outputs": [
    {
     "data": {
      "text/plain": [
       "<Response [200]>"
      ]
     },
     "execution_count": 2,
     "metadata": {},
     "output_type": "execute_result"
    }
   ],
   "source": [
    "resposta"
   ]
  },
  {
   "cell_type": "code",
   "execution_count": 3,
   "metadata": {},
   "outputs": [],
   "source": [
    "from bs4 import BeautifulSoup"
   ]
  },
  {
   "cell_type": "code",
   "execution_count": 4,
   "metadata": {},
   "outputs": [
    {
     "name": "stdout",
     "output_type": "stream",
     "text": [
      "Pagina Principal: Eminem – Wikipédia, a enciclopédia livre\n"
     ]
    }
   ],
   "source": [
    "tags = BeautifulSoup(resposta.text, 'html5lib')\n",
    "titulo = tags.find('title')\n",
    "print(f'Pagina Principal: {titulo.text}')"
   ]
  },
  {
   "cell_type": "code",
   "execution_count": 5,
   "metadata": {},
   "outputs": [
    {
     "name": "stdout",
     "output_type": "stream",
     "text": [
      "['https://pt.wikipedia.org/wiki/Nome_art%C3%ADstico', 'https://pt.wikipedia.org/wiki/St._Joseph_(Missouri)', 'https://pt.wikipedia.org/wiki/17_de_outubro', 'https://pt.wikipedia.org/wiki/1972', 'https://pt.wikipedia.org/wiki/Rap', 'https://pt.wikipedia.org/wiki/Compositor', 'https://pt.wikipedia.org/wiki/Produtor_musical', 'https://pt.wikipedia.org/wiki/Ator', 'https://pt.wikipedia.org/wiki/Estadunidense', 'https://pt.wikipedia.org/wiki/The_Slim_Shady_LP', 'https://pt.wikipedia.org/wiki/Grammy_Award_de_Melhor_%C3%81lbum_de_Rap', 'https://pt.wikipedia.org/wiki/The_Marshall_Mathers_LP', 'https://pt.wikipedia.org/wiki/Shady_Records', 'https://pt.wikipedia.org/wiki/D12', 'https://pt.wikipedia.org/wiki/The_Eminem_Show', 'https://pt.wikipedia.org/wiki/Grammy_Awards', 'https://pt.wikipedia.org/wiki/Oscar_de_melhor_can%C3%A7%C3%A3o_original', 'https://pt.wikipedia.org/wiki/Lose_Yourself', 'https://pt.wikipedia.org/wiki/8_Mile', 'https://pt.wikipedia.org/wiki/Hip_hop', 'https://pt.wikipedia.org/wiki/Encore_(%C3%A1lbum_de_Eminem)', 'https://pt.wikipedia.org/wiki/Relapse', 'https://pt.wikipedia.org/wiki/Nielsen_SoundScan', 'https://pt.wikipedia.org/wiki/Lista_de_recordistas_de_vendas_de_discos_nos_EUA', 'https://pt.wikipedia.org/wiki/RIAA', 'https://pt.wikipedia.org/wiki/Lista_de_recordistas_de_vendas_de_discos', 'https://pt.wikipedia.org/wiki/Recovery_(%C3%A1lbum_de_Eminem)', 'https://pt.wikipedia.org/wiki/Love_the_Way_You_Lie', 'https://pt.wikipedia.org/wiki/VH1', 'https://pt.wikipedia.org/wiki/Rolling_Stone', 'https://pt.wikipedia.org/wiki/D12', 'https://pt.wikipedia.org/wiki/Billboard_Top_200', 'https://pt.wikipedia.org/wiki/Billboard', 'https://pt.wikipedia.org/wiki/MTV', 'https://pt.wikipedia.org/wiki/St._Joseph_(Missouri)', 'https://pt.wikipedia.org/wiki/Missouri', 'https://pt.wikipedia.org/wiki/Escoceses', 'https://pt.wikipedia.org/wiki/Galeses', 'https://pt.wikipedia.org/wiki/Ingleses', 'https://pt.wikipedia.org/wiki/Alem%C3%A3es', 'https://pt.wikipedia.org/wiki/Su%C3%AD%C3%A7o', 'https://pt.wikipedia.org/wiki/Polacos', 'https://pt.wikipedia.org/wiki/Luxemburgo', 'https://pt.wikipedia.org/wiki/Savannah_(Missouri)', 'https://pt.wikipedia.org/wiki/Kansas_City_(Missouri)', 'https://pt.wikipedia.org/wiki/Warren_(Michigan)', 'https://pt.wikipedia.org/wiki/Michigan', 'https://pt.wikipedia.org/wiki/Detroit', 'https://pt.wikipedia.org/wiki/Licensed_to_Ill', 'https://pt.wikipedia.org/wiki/Beastie_Boys', 'https://pt.wikipedia.org/wiki/Hip_hop', 'https://pt.wikipedia.org/wiki/Pseud%C3%B4nimo', 'https://pt.wikipedia.org/wiki/Extended_play', 'https://pt.wikipedia.org/wiki/Single', 'https://pt.wikipedia.org/wiki/Lincoln_High_School', 'https://pt.wikipedia.org/wiki/Freestyle_rap', 'https://pt.wikipedia.org/wiki/Afro-americano', 'https://pt.wikipedia.org/wiki/Hip_hop_underground', 'https://pt.wikipedia.org/wiki/Absente%C3%ADsmo_escolar', 'https://pt.wikipedia.org/wiki/Suic%C3%ADdio', 'https://pt.wikipedia.org/wiki/Espingarda', 'https://pt.wikipedia.org/wiki/St._Clair_Shores', 'https://pt.wikipedia.org/wiki/Sal%C3%A1rio_m%C3%ADnimo', 'https://pt.wikipedia.org/wiki/Infinite_(%C3%A1lbum_de_Eminem)', 'https://pt.wikipedia.org/wiki/Web_Entertainment', 'https://pt.wikipedia.org/wiki/Nas', 'https://pt.wikipedia.org/wiki/AZ_(rapper)', 'https://pt.wikipedia.org/wiki/Royce_da_5%279%22', 'https://pt.wikipedia.org/wiki/Jimmy_Iovine', 'https://pt.wikipedia.org/wiki/Interscope_Records', 'https://pt.wikipedia.org/wiki/Rap_Olympics', 'https://pt.wikipedia.org/wiki/Dr._Dre', 'https://pt.wikipedia.org/wiki/Aftermath_Entertainment', 'https://pt.wikipedia.org/wiki/The_Slim_Shady_EP', 'https://pt.wikipedia.org/wiki/Cage_(rapper)', 'https://pt.wikipedia.org/wiki/Devil_Without_a_Cause', 'https://pt.wikipedia.org/wiki/Kid_Rock', 'https://pt.wikipedia.org/wiki/The_Source_(revista)', 'https://pt.wikipedia.org/wiki/Billboard', 'https://pt.wikipedia.org/wiki/Aftermath_Entertainment', 'https://pt.wikipedia.org/wiki/Interscope_Records', 'https://pt.wikipedia.org/wiki/The_Slim_Shady_LP', 'https://pt.wikipedia.org/wiki/Dr._Dre', 'https://pt.wikipedia.org/wiki/RIAA', 'https://pt.wikipedia.org/wiki/Guilty_Conscience', 'https://pt.wikipedia.org/wiki/Forgot_About_Dre', 'https://pt.wikipedia.org/wiki/2001_(%C3%A1lbum)', 'https://pt.wikipedia.org/wiki/Bitch_Please_II', 'https://pt.wikipedia.org/wiki/Encore/Curtains_Down', 'https://pt.wikipedia.org/wiki/Old_Time%27s_Sake', 'https://pt.wikipedia.org/wiki/Crack_a_Bottle', 'https://pt.wikipedia.org/wiki/The_Marshall_Mathers_LP', 'https://pt.wikipedia.org/wiki/Doggystyle', 'https://pt.wikipedia.org/wiki/Snoop_Dogg', 'https://pt.wikipedia.org/wiki/Oops!..._I_Did_It_Again', 'https://pt.wikipedia.org/wiki/Britney_Spears', 'https://pt.wikipedia.org/wiki/Single', 'https://pt.wikipedia.org/wiki/The_Real_Slim_Shady', 'https://pt.wikipedia.org/wiki/Christina_Aguilera', 'https://pt.wikipedia.org/wiki/Sexo_oral', 'https://pt.wikipedia.org/wiki/Fred_Durst', 'https://pt.wikipedia.org/wiki/Carson_Daly', 'https://pt.wikipedia.org/wiki/The_Way_I_Am', 'https://pt.wikipedia.org/wiki/My_Name_Is', 'https://pt.wikipedia.org/wiki/Marilyn_Manson', 'https://pt.wikipedia.org/wiki/Stan_(can%C3%A7%C3%A3o)', 'https://pt.wikipedia.org/wiki/Dido_(cantora)', 'https://pt.wikipedia.org/wiki/The_Slim_Shady_LP', 'https://pt.wikipedia.org/wiki/Rolling_Stone', 'https://pt.wikipedia.org/wiki/Elton_John', 'https://pt.wikipedia.org/wiki/Grammy_Awards', 'https://pt.wikipedia.org/wiki/Gay_%26_Lesbian_Alliance_Against_Defamation', 'https://pt.wikipedia.org/wiki/Homofobia', 'https://pt.wikipedia.org/wiki/Homossexualismo', 'https://pt.wikipedia.org/wiki/Entertainment_Weekly', 'https://pt.wikipedia.org/wiki/Staples_Center', 'https://pt.wikipedia.org/wiki/Moby', 'https://pt.wikipedia.org/wiki/Up_In_Smoke_Tour', 'https://pt.wikipedia.org/wiki/Dr._Dre', 'https://pt.wikipedia.org/wiki/Snoop_Dogg', 'https://pt.wikipedia.org/wiki/Xzibit', 'https://pt.wikipedia.org/wiki/Ice_Cube', 'https://pt.wikipedia.org/wiki/Limp_Bizkit', 'https://pt.wikipedia.org/wiki/The_Eminem_Show', 'https://pt.wikipedia.org/wiki/Without_Me', 'https://pt.wikipedia.org/wiki/Boy_band', 'https://pt.wikipedia.org/wiki/Limp_Bizkit', 'https://pt.wikipedia.org/wiki/Moby', 'https://pt.wikipedia.org/wiki/Lynne_Cheney', 'https://pt.wikipedia.org/wiki/Stephen_Thomas_Erlewine', 'https://pt.wikipedia.org/wiki/Allmusic', 'https://pt.wikipedia.org/wiki/The_Marshall_Mathers_LP', 'https://pt.wikipedia.org/wiki/L._Brent_Bozell_III', 'https://pt.wikipedia.org/wiki/Misoginia', 'https://pt.wikipedia.org/wiki/Media_Research_Center', 'https://pt.wikipedia.org/wiki/United_States_Secret_Service', 'https://pt.wikipedia.org/wiki/Presidente_dos_Estados_Unidos', 'https://pt.wikipedia.org/wiki/Encore_(%C3%A1lbum_de_Eminem)', 'https://pt.wikipedia.org/wiki/Just_Lose_It', 'https://pt.wikipedia.org/wiki/Michael_Jackson', 'https://pt.wikipedia.org/wiki/Los_Angeles', 'https://pt.wikipedia.org/wiki/Pepsi', 'https://pt.wikipedia.org/wiki/Stevie_Wonder', 'https://pt.wikipedia.org/wiki/Steve_Harvey', 'https://pt.wikipedia.org/wiki/MC_Hammer', 'https://pt.wikipedia.org/wiki/Madonna', 'https://pt.wikipedia.org/wiki/%22Weird_Al%22_Yankovic', 'https://pt.wikipedia.org/wiki/Lose_Yourself', 'https://pt.wikipedia.org/wiki/8_Mile', 'https://pt.wikipedia.org/wiki/Black_Entertainment_Television', 'https://pt.wikipedia.org/wiki/MTV', 'https://pt.wikipedia.org/wiki/The_Source', 'https://pt.wikipedia.org/wiki/25_de_outubro', 'https://pt.wikipedia.org/wiki/Elei%C3%A7%C3%A3o_presidencial_dos_Estados_Unidos_(2004)', 'https://pt.wikipedia.org/wiki/George_W._Bush', 'https://pt.wikipedia.org/wiki/Lloyd_Banks', 'https://pt.wikipedia.org/wiki/Casa_Branca', 'https://pt.wikipedia.org/wiki/Curtain_Call:_The_Hits', 'https://pt.wikipedia.org/wiki/Aftermath_Entertainment', 'https://pt.wikipedia.org/wiki/Billboard_Hot_100', 'https://pt.wikipedia.org/wiki/RIAA', 'https://pt.wikipedia.org/wiki/Detroit', 'https://pt.wikipedia.org/wiki/Eminem_Presents:_The_Re-Up', 'https://pt.wikipedia.org/wiki/Shady_Records', 'https://pt.wikipedia.org/wiki/Bernard_Goldberg', 'https://pt.wikipedia.org/wiki/Bob_Herbert', 'https://pt.wikipedia.org/wiki/The_New_York_Times', 'https://pt.wikipedia.org/wiki/Estupro', 'https://pt.wikipedia.org/wiki/Assassinato', 'https://pt.wikipedia.org/wiki/The_Slim_Shady_EP', 'https://pt.wikipedia.org/wiki/Misoginia', 'https://pt.wikipedia.org/wiki/Anger_Management_Tour', 'https://pt.wikipedia.org/wiki/50_Cent', 'https://pt.wikipedia.org/wiki/G-Unit', 'https://pt.wikipedia.org/wiki/Lil%27_Jon', 'https://pt.wikipedia.org/wiki/D12', 'https://pt.wikipedia.org/wiki/Obie_Trice', 'https://pt.wikipedia.org/wiki/Nova_Iorque', 'https://pt.wikipedia.org/wiki/50_Cent', 'https://pt.wikipedia.org/wiki/Shade_45', 'https://pt.wikipedia.org/wiki/Interscope_Records', 'https://pt.wikipedia.org/wiki/Dr._Dre', 'https://pt.wikipedia.org/wiki/5_de_mar%C3%A7o', 'https://pt.wikipedia.org/wiki/Single', 'https://pt.wikipedia.org/wiki/We_Made_You', 'https://pt.wikipedia.org/wiki/Relapse', 'https://pt.wikipedia.org/wiki/19_de_maio', 'https://pt.wikipedia.org/wiki/Video_Music_Awards_de_2009', 'https://pt.wikipedia.org/wiki/Sacha_Baron_Cohen', 'https://pt.wikipedia.org/wiki/Anjo', 'https://pt.wikipedia.org/wiki/N%C3%A1degas', 'https://pt.wikipedia.org/wiki/Relapse:_Refill', 'https://pt.wikipedia.org/wiki/Forever_(can%C3%A7%C3%A3o_de_Drake)', 'https://pt.wikipedia.org/wiki/Twitter', 'https://pt.wikipedia.org/wiki/Recovery_(%C3%A1lbum_de_Eminem)', 'https://pt.wikipedia.org/wiki/Recovery_(%C3%A1lbum_de_Eminem)', 'https://pt.wikipedia.org/wiki/Billboard_200', 'https://pt.wikipedia.org/wiki/Not_Afraid', 'https://pt.wikipedia.org/wiki/Billboard_Hot_100', 'https://pt.wikipedia.org/wiki/Love_the_Way_You_Lie', 'https://pt.wikipedia.org/wiki/Rihanna', 'https://pt.wikipedia.org/wiki/YouTube', 'https://pt.wikipedia.org/wiki/Jay-Z', 'https://pt.wikipedia.org/wiki/The_Home_%26_Home_Tour', 'https://pt.wikipedia.org/wiki/Video_Music_Awards_de_2010', 'https://pt.wikipedia.org/wiki/Loud', 'https://pt.wikipedia.org/wiki/Nicki_Minaj', 'https://pt.wikipedia.org/wiki/Pink_Friday', 'https://pt.wikipedia.org/wiki/Alter_ego', 'https://pt.wikipedia.org/wiki/Billboard', 'https://pt.wikipedia.org/wiki/Grammy_Awards', 'https://pt.wikipedia.org/wiki/Wikip%C3%A9dia:Livro_de_estilo/Cite_as_fontes', 'https://pt.wikipedia.org/wiki/Pink', 'https://pt.wikipedia.org/wiki/The_Truth_About_Love', 'https://pt.wikipedia.org/wiki/Wikip%C3%A9dia:Livro_de_estilo/Cite_as_fontes', 'https://pt.wikipedia.org/wiki/Shady_Records', 'https://pt.wikipedia.org/wiki/Wikip%C3%A9dia:Livro_de_estilo/Cite_as_fontes', 'https://pt.wikipedia.org/wiki/Call_of_Duty:_Ghosts', 'https://pt.wikipedia.org/wiki/The_Marshall_Mathers_LP_2', 'https://pt.wikipedia.org/wiki/The_Marshall_Mathers_LP', 'https://pt.wikipedia.org/wiki/Wikip%C3%A9dia:Livro_de_estilo/Cite_as_fontes', 'https://pt.wikipedia.org/wiki/The_Slim_Shady_LP', 'https://pt.wikipedia.org/wiki/Shady_Records', 'https://pt.wikipedia.org/wiki/Guts_Over_Fear', 'https://pt.wikipedia.org/wiki/Interscope_Records', 'https://pt.wikipedia.org/wiki/Paul_Rosenberg', 'https://pt.wikipedia.org/wiki/Shady_Records', 'https://pt.wikipedia.org/wiki/D12', 'https://pt.wikipedia.org/wiki/Obie_Trice', 'https://pt.wikipedia.org/wiki/50_Cent', 'https://pt.wikipedia.org/wiki/Joint_venture', 'https://pt.wikipedia.org/wiki/Aftermath_Entertainment', 'https://pt.wikipedia.org/wiki/Stat_Quo', 'https://pt.wikipedia.org/wiki/The_Alchemist', 'https://pt.wikipedia.org/wiki/Cashis', 'https://pt.wikipedia.org/wiki/5_de_dezembro', 'https://pt.wikipedia.org/wiki/Eminem_Presents:_The_Re-Up', 'https://pt.wikipedia.org/wiki/Mixtape', 'https://pt.wikipedia.org/wiki/Bobby_Creekwater', 'https://pt.wikipedia.org/wiki/Proof_(rapper)', 'https://pt.wikipedia.org/wiki/Kon_Artis', 'https://pt.wikipedia.org/wiki/D12', 'https://pt.wikipedia.org/wiki/Wu-Tang_Clan', 'https://pt.wikipedia.org/wiki/Devil%27s_Night', 'https://pt.wikipedia.org/wiki/Shit_on_You', 'https://pt.wikipedia.org/wiki/Purple_Pills', 'https://pt.wikipedia.org/wiki/Fight_Music', 'https://pt.wikipedia.org/wiki/Bizarre_(rapper)', 'https://pt.wikipedia.org/wiki/Blue_Cheese_%26_Coney_Island', 'https://pt.wikipedia.org/wiki/D12_World', 'https://pt.wikipedia.org/wiki/My_Band', 'https://pt.wikipedia.org/wiki/Proof_(rapper)', 'https://pt.wikipedia.org/wiki/Detroit', 'https://pt.wikipedia.org/wiki/Bilhar', 'https://pt.wikipedia.org/wiki/Royce_da_5%279%22', 'https://pt.wikipedia.org/wiki/Extended_play', 'https://pt.wikipedia.org/wiki/Hell:_The_Sequel', 'https://pt.wikipedia.org/wiki/Produtor_musical', 'https://pt.wikipedia.org/wiki/Jadakiss', 'https://pt.wikipedia.org/wiki/Jay-Z', 'https://pt.wikipedia.org/wiki/Lloyd_Banks', 'https://pt.wikipedia.org/wiki/Tony_Yayo', 'https://pt.wikipedia.org/wiki/Trick_Trick', 'https://pt.wikipedia.org/wiki/Xzibit', 'https://pt.wikipedia.org/wiki/The_Eminem_Show', 'https://pt.wikipedia.org/wiki/Ghetto_Gospel', 'https://pt.wikipedia.org/wiki/Elton_John', 'https://pt.wikipedia.org/wiki/Encore_(%C3%A1lbum_de_Eminem)', 'https://pt.wikipedia.org/wiki/Dr._Dre', 'https://pt.wikipedia.org/wiki/Nas', 'https://pt.wikipedia.org/wiki/Second_Round%27s_on_Me', 'https://pt.wikipedia.org/wiki/Devil%27s_Night', 'https://pt.wikipedia.org/wiki/D12_World', 'https://pt.wikipedia.org/wiki/Cheers_(%C3%A1lbum)', 'https://pt.wikipedia.org/wiki/Second_Round%27s_on_Me', 'https://pt.wikipedia.org/wiki/Get_Rich_or_Die_Tryin%27', 'https://pt.wikipedia.org/wiki/The_Massacre', 'https://pt.wikipedia.org/wiki/Tupac_Shakur', 'https://pt.wikipedia.org/wiki/Loyal_to_the_Game', 'https://pt.wikipedia.org/wiki/Afeni_Shakur', 'https://pt.wikipedia.org/wiki/Instrumental', 'https://pt.wikipedia.org/wiki/The_Wash_(filme)', 'https://pt.wikipedia.org/wiki/Hollywood', 'https://pt.wikipedia.org/wiki/8_Mile', 'https://pt.wikipedia.org/wiki/8_Mile_(trilha_sonora)', 'https://pt.wikipedia.org/wiki/Lose_Yourself', 'https://pt.wikipedia.org/wiki/Oscar_de_melhor_can%C3%A7%C3%A3o_original', 'https://pt.wikipedia.org/wiki/Luis_Resto', 'https://pt.wikipedia.org/wiki/Dublador', 'https://pt.wikipedia.org/wiki/50_Cent:_Bulletproof', 'https://pt.wikipedia.org/wiki/The_Slim_Shady_Show', 'https://pt.wikipedia.org/wiki/DVD', 'https://pt.wikipedia.org/wiki/Jumper_(filme)', 'https://pt.wikipedia.org/wiki/Doug_Liman', 'https://pt.wikipedia.org/wiki/Hayden_Christensen', 'https://pt.wikipedia.org/wiki/Funny_People', 'https://pt.wikipedia.org/wiki/Ray_Romano', 'https://pt.wikipedia.org/wiki/Autobiografia', 'https://pt.wikipedia.org/wiki/The_Way_I_Am_(livro)', 'https://pt.wikipedia.org/wiki/Stan_(can%C3%A7%C3%A3o)', 'https://pt.wikipedia.org/wiki/The_Real_Slim_Shady', 'https://pt.wikipedia.org/wiki/MC#Hip_hop', 'https://pt.wikipedia.org/wiki/Rap', 'https://pt.wikipedia.org/wiki/Esham', 'https://pt.wikipedia.org/wiki/Kool_G_Rap', 'https://pt.wikipedia.org/wiki/Masta_Ace', 'https://pt.wikipedia.org/wiki/Big_Daddy_Kane', 'https://pt.wikipedia.org/wiki/Newcleus', 'https://pt.wikipedia.org/wiki/Ice-T', 'https://pt.wikipedia.org/wiki/Mantronix', 'https://pt.wikipedia.org/wiki/Melle_Mel', 'https://pt.wikipedia.org/wiki/LL_Cool_J', 'https://pt.wikipedia.org/wiki/The_Beastie_Boys', 'https://pt.wikipedia.org/wiki/Run-D.M.C.', 'https://pt.wikipedia.org/wiki/Rakim', 'https://pt.wikipedia.org/wiki/Boogie_Down_Productions', 'https://pt.wikipedia.org/wiki/Guerilla_Black', 'https://pt.wikipedia.org/wiki/Melodia', 'https://pt.wikipedia.org/wiki/S%C3%ADncope_(m%C3%BAsica)', 'https://pt.wikipedia.org/wiki/The_Way_I_Am_(livro)', 'https://pt.wikipedia.org/wiki/Workaholic', 'https://pt.wikipedia.org/wiki/Kim_(can%C3%A7%C3%A3o)', 'https://pt.wikipedia.org/wiki/Like_Toy_Soldiers', 'https://pt.wikipedia.org/wiki/Mockingbird_(can%C3%A7%C3%A3o)', 'https://pt.wikipedia.org/wiki/Forgot_About_Dre', 'https://pt.wikipedia.org/wiki/Cleanin%27_Out_My_Closet', 'https://pt.wikipedia.org/wiki/When_I%27m_Gone_(can%C3%A7%C3%A3o_de_Eminem)', 'https://pt.wikipedia.org/wiki/Beautiful_(can%C3%A7%C3%A3o_de_Eminem)', 'https://pt.wikipedia.org/wiki/Sing_for_the_Moment', 'https://pt.wikipedia.org/wiki/Airplanes_pt._II', 'https://pt.wikipedia.org/wiki/Meio-irm%C3%A3o', 'https://pt.wikipedia.org/wiki/Cal%C3%BAnia', 'https://pt.wikipedia.org/wiki/The_Slim_Shady_EP', 'https://pt.wikipedia.org/wiki/Danos_morais', 'https://pt.wikipedia.org/wiki/3_de_junho', 'https://pt.wikipedia.org/wiki/2000', 'https://pt.wikipedia.org/wiki/Royal_Oak', 'https://pt.wikipedia.org/wiki/Michigan', 'https://pt.wikipedia.org/wiki/Warren_(Michigan)', 'https://pt.wikipedia.org/wiki/Liberdade_condicional', 'https://pt.wikipedia.org/wiki/Psychopathic_Records', 'https://pt.wikipedia.org/wiki/D%C3%B3lar_dos_Estados_Unidos', 'https://pt.wikipedia.org/wiki/Proof_(rapper)', 'https://pt.wikipedia.org/wiki/D12', 'https://pt.wikipedia.org/wiki/Zolpidem', 'https://pt.wikipedia.org/wiki/Anger_Management_Tour', 'https://pt.wikipedia.org/wiki/Son%C3%ADfero', 'https://pt.wikipedia.org/wiki/Jonathan_Ross', 'https://pt.wikipedia.org/wiki/Auto-estima', 'https://pt.wikipedia.org/wiki/M%C3%BAsica_pop', 'https://pt.wikipedia.org/wiki/Mariah_Carey', 'https://pt.wikipedia.org/wiki/Superman_(can%C3%A7%C3%A3o_de_Eminem)', 'https://pt.wikipedia.org/wiki/Jimmy_Crack_Corn', 'https://pt.wikipedia.org/wiki/Obsessed_(can%C3%A7%C3%A3o)', 'https://pt.wikipedia.org/wiki/Relapse', 'https://pt.wikipedia.org/wiki/Nick_Cannon', 'https://pt.wikipedia.org/wiki/Obsessed_(can%C3%A7%C3%A3o)', 'https://pt.wikipedia.org/wiki/Slick_Rick', 'https://pt.wikipedia.org/wiki/Misoginia']\n"
     ]
    }
   ],
   "source": [
    "import csv\n",
    "\n",
    "arquivo = csv.DictReader(open('output_lin.csv', encoding='utf-8'))\n",
    "x = []\n",
    "for linha in arquivo:\n",
    "    x.append(linha['link'])\n",
    "\n",
    "print(x)"
   ]
  },
  {
   "cell_type": "code",
   "execution_count": 51,
   "metadata": {},
   "outputs": [
    {
     "name": "stdout",
     "output_type": "stream",
     "text": [
      "Pagina Secundária: Nome artístico – Wikipédia, a enciclopédia livre\n",
      "Pagina Secundária: St. Joseph (Missouri) – Wikipédia, a enciclopédia livre\n",
      "Pagina Secundária: 17 de outubro – Wikipédia, a enciclopédia livre\n",
      "Pagina Secundária: 1972 – Wikipédia, a enciclopédia livre\n",
      "Pagina Secundária: Rap – Wikipédia, a enciclopédia livre\n",
      "Pagina Secundária: Compositor – Wikipédia, a enciclopédia livre\n",
      "Pagina Secundária: Produtor musical – Wikipédia, a enciclopédia livre\n",
      "Pagina Secundária: Ator – Wikipédia, a enciclopédia livre\n",
      "Pagina Secundária: Povo dos Estados Unidos – Wikipédia, a enciclopédia livre\n",
      "Pagina Secundária: The Slim Shady LP – Wikipédia, a enciclopédia livre\n",
      "Pagina Secundária: Grammy Award para melhor álbum de rap – Wikipédia, a enciclopédia livre\n",
      "Pagina Secundária: The Marshall Mathers LP – Wikipédia, a enciclopédia livre\n",
      "Pagina Secundária: Shady Records – Wikipédia, a enciclopédia livre\n",
      "Pagina Secundária: D-12 – Wikipédia, a enciclopédia livre\n",
      "Pagina Secundária: The Eminem Show – Wikipédia, a enciclopédia livre\n",
      "Pagina Secundária: Grammy Award – Wikipédia, a enciclopédia livre\n",
      "Pagina Secundária: Oscar de melhor canção original – Wikipédia, a enciclopédia livre\n",
      "Pagina Secundária: Lose Yourself – Wikipédia, a enciclopédia livre\n",
      "Pagina Secundária: 8 Mile – Wikipédia, a enciclopédia livre\n",
      "Pagina Secundária: Hip hop – Wikipédia, a enciclopédia livre\n",
      "Pagina Secundária: Encore (álbum de Eminem) – Wikipédia, a enciclopédia livre\n",
      "Pagina Secundária: Relapse – Wikipédia, a enciclopédia livre\n",
      "Pagina Secundária: Nielsen SoundScan – Wikipédia, a enciclopédia livre\n",
      "Pagina Secundária: Lista de recordistas de vendas de discos nos Estados Unidos – Wikipédia, a enciclopédia livre\n",
      "Pagina Secundária: Recording Industry Association of America – Wikipédia, a enciclopédia livre\n",
      "Pagina Secundária: Lista de músicos recordistas de vendas – Wikipédia, a enciclopédia livre\n",
      "Pagina Secundária: Recovery (álbum de Eminem) – Wikipédia, a enciclopédia livre\n",
      "Pagina Secundária: Love the Way You Lie – Wikipédia, a enciclopédia livre\n",
      "Pagina Secundária: VH1 – Wikipédia, a enciclopédia livre\n",
      "Pagina Secundária: Rolling Stone – Wikipédia, a enciclopédia livre\n",
      "Pagina Secundária: D-12 – Wikipédia, a enciclopédia livre\n",
      "Pagina Secundária: Billboard 200 – Wikipédia, a enciclopédia livre\n",
      "Pagina Secundária: Billboard – Wikipédia, a enciclopédia livre\n",
      "Pagina Secundária: MTV – Wikipédia, a enciclopédia livre\n",
      "Pagina Secundária: St. Joseph (Missouri) – Wikipédia, a enciclopédia livre\n",
      "Pagina Secundária: Missouri – Wikipédia, a enciclopédia livre\n",
      "Pagina Secundária: Escoceses – Wikipédia, a enciclopédia livre\n",
      "Pagina Secundária: Galeses – Wikipédia, a enciclopédia livre\n",
      "Pagina Secundária: Ingleses – Wikipédia, a enciclopédia livre\n",
      "Pagina Secundária: Alemães – Wikipédia, a enciclopédia livre\n",
      "Pagina Secundária: Suíço – Wikipédia, a enciclopédia livre\n",
      "Pagina Secundária: Polacos – Wikipédia, a enciclopédia livre\n",
      "Pagina Secundária: Luxemburgo – Wikipédia, a enciclopédia livre\n",
      "Pagina Secundária: Savannah (Missouri) – Wikipédia, a enciclopédia livre\n",
      "Pagina Secundária: Kansas City (Missouri) – Wikipédia, a enciclopédia livre\n",
      "Pagina Secundária: Warren (Michigan) – Wikipédia, a enciclopédia livre\n",
      "Pagina Secundária: Michigan – Wikipédia, a enciclopédia livre\n",
      "Pagina Secundária: Detroit – Wikipédia, a enciclopédia livre\n",
      "Pagina Secundária: Licensed to Ill – Wikipédia, a enciclopédia livre\n",
      "Pagina Secundária: Beastie Boys – Wikipédia, a enciclopédia livre\n",
      "Pagina Secundária: Hip hop – Wikipédia, a enciclopédia livre\n",
      "Pagina Secundária: Pseudónimo – Wikipédia, a enciclopédia livre\n",
      "Pagina Secundária: Extended play – Wikipédia, a enciclopédia livre\n",
      "Pagina Secundária: Single – Wikipédia, a enciclopédia livre\n",
      "Pagina Secundária: Lincoln High School – Wikipédia, a enciclopédia livre\n",
      "Pagina Secundária: Freestyle rap – Wikipédia, a enciclopédia livre\n",
      "Pagina Secundária: Afro-americanos – Wikipédia, a enciclopédia livre\n",
      "Pagina Secundária: Underground hip hop – Wikipédia, a enciclopédia livre\n",
      "Pagina Secundária: Absenteísmo escolar – Wikipédia, a enciclopédia livre\n",
      "Pagina Secundária: Suicídio – Wikipédia, a enciclopédia livre\n",
      "Pagina Secundária: Espingarda – Wikipédia, a enciclopédia livre\n",
      "Pagina Secundária: St. Clair Shores – Wikipédia, a enciclopédia livre\n",
      "Pagina Secundária: Salário mínimo – Wikipédia, a enciclopédia livre\n",
      "Pagina Secundária: Infinite (álbum de Eminem) – Wikipédia, a enciclopédia livre\n",
      "Pagina Secundária: Web Entertainment – Wikipédia, a enciclopédia livre\n"
     ]
    },
    {
     "ename": "KeyboardInterrupt",
     "evalue": "",
     "output_type": "error",
     "traceback": [
      "\u001b[1;31m---------------------------------------------------------------------------\u001b[0m",
      "\u001b[1;31mKeyboardInterrupt\u001b[0m                         Traceback (most recent call last)",
      "\u001b[1;32m<ipython-input-51-3bfcb4765642>\u001b[0m in \u001b[0;36m<module>\u001b[1;34m\u001b[0m\n\u001b[0;32m      1\u001b[0m \u001b[1;32mfor\u001b[0m \u001b[0mp\u001b[0m \u001b[1;32min\u001b[0m \u001b[0mx\u001b[0m\u001b[1;33m:\u001b[0m\u001b[1;33m\u001b[0m\u001b[1;33m\u001b[0m\u001b[0m\n\u001b[0;32m      2\u001b[0m     \u001b[0mlin\u001b[0m \u001b[1;33m=\u001b[0m \u001b[0mget\u001b[0m\u001b[1;33m(\u001b[0m\u001b[0mp\u001b[0m\u001b[1;33m)\u001b[0m\u001b[1;33m\u001b[0m\u001b[1;33m\u001b[0m\u001b[0m\n\u001b[1;32m----> 3\u001b[1;33m     \u001b[0mteste\u001b[0m \u001b[1;33m=\u001b[0m \u001b[0mBeautifulSoup\u001b[0m\u001b[1;33m(\u001b[0m\u001b[0mlin\u001b[0m\u001b[1;33m.\u001b[0m\u001b[0mtext\u001b[0m\u001b[1;33m,\u001b[0m \u001b[1;34m'html5lib'\u001b[0m\u001b[1;33m)\u001b[0m\u001b[1;33m\u001b[0m\u001b[1;33m\u001b[0m\u001b[0m\n\u001b[0m\u001b[0;32m      4\u001b[0m     \u001b[0msegutitulo\u001b[0m \u001b[1;33m=\u001b[0m \u001b[0mteste\u001b[0m\u001b[1;33m.\u001b[0m\u001b[0mfind\u001b[0m\u001b[1;33m(\u001b[0m\u001b[1;34m'title'\u001b[0m\u001b[1;33m)\u001b[0m\u001b[1;33m\u001b[0m\u001b[1;33m\u001b[0m\u001b[0m\n\u001b[0;32m      5\u001b[0m     \u001b[0mprint\u001b[0m\u001b[1;33m(\u001b[0m\u001b[1;34mf'Pagina Secundária: {segutitulo.text}'\u001b[0m\u001b[1;33m)\u001b[0m\u001b[1;33m\u001b[0m\u001b[1;33m\u001b[0m\u001b[0m\n",
      "\u001b[1;32m~\\Anaconda3\\lib\\site-packages\\bs4\\__init__.py\u001b[0m in \u001b[0;36m__init__\u001b[1;34m(self, markup, features, builder, parse_only, from_encoding, exclude_encodings, element_classes, **kwargs)\u001b[0m\n\u001b[0;32m    346\u001b[0m             \u001b[0mself\u001b[0m\u001b[1;33m.\u001b[0m\u001b[0mreset\u001b[0m\u001b[1;33m(\u001b[0m\u001b[1;33m)\u001b[0m\u001b[1;33m\u001b[0m\u001b[1;33m\u001b[0m\u001b[0m\n\u001b[0;32m    347\u001b[0m             \u001b[1;32mtry\u001b[0m\u001b[1;33m:\u001b[0m\u001b[1;33m\u001b[0m\u001b[1;33m\u001b[0m\u001b[0m\n\u001b[1;32m--> 348\u001b[1;33m                 \u001b[0mself\u001b[0m\u001b[1;33m.\u001b[0m\u001b[0m_feed\u001b[0m\u001b[1;33m(\u001b[0m\u001b[1;33m)\u001b[0m\u001b[1;33m\u001b[0m\u001b[1;33m\u001b[0m\u001b[0m\n\u001b[0m\u001b[0;32m    349\u001b[0m                 \u001b[0msuccess\u001b[0m \u001b[1;33m=\u001b[0m \u001b[1;32mTrue\u001b[0m\u001b[1;33m\u001b[0m\u001b[1;33m\u001b[0m\u001b[0m\n\u001b[0;32m    350\u001b[0m                 \u001b[1;32mbreak\u001b[0m\u001b[1;33m\u001b[0m\u001b[1;33m\u001b[0m\u001b[0m\n",
      "\u001b[1;32m~\\Anaconda3\\lib\\site-packages\\bs4\\__init__.py\u001b[0m in \u001b[0;36m_feed\u001b[1;34m(self)\u001b[0m\n\u001b[0;32m    432\u001b[0m         \u001b[0mself\u001b[0m\u001b[1;33m.\u001b[0m\u001b[0mbuilder\u001b[0m\u001b[1;33m.\u001b[0m\u001b[0mreset\u001b[0m\u001b[1;33m(\u001b[0m\u001b[1;33m)\u001b[0m\u001b[1;33m\u001b[0m\u001b[1;33m\u001b[0m\u001b[0m\n\u001b[0;32m    433\u001b[0m \u001b[1;33m\u001b[0m\u001b[0m\n\u001b[1;32m--> 434\u001b[1;33m         \u001b[0mself\u001b[0m\u001b[1;33m.\u001b[0m\u001b[0mbuilder\u001b[0m\u001b[1;33m.\u001b[0m\u001b[0mfeed\u001b[0m\u001b[1;33m(\u001b[0m\u001b[0mself\u001b[0m\u001b[1;33m.\u001b[0m\u001b[0mmarkup\u001b[0m\u001b[1;33m)\u001b[0m\u001b[1;33m\u001b[0m\u001b[1;33m\u001b[0m\u001b[0m\n\u001b[0m\u001b[0;32m    435\u001b[0m         \u001b[1;31m# Close out any unfinished strings and close all the open tags.\u001b[0m\u001b[1;33m\u001b[0m\u001b[1;33m\u001b[0m\u001b[1;33m\u001b[0m\u001b[0m\n\u001b[0;32m    436\u001b[0m         \u001b[0mself\u001b[0m\u001b[1;33m.\u001b[0m\u001b[0mendData\u001b[0m\u001b[1;33m(\u001b[0m\u001b[1;33m)\u001b[0m\u001b[1;33m\u001b[0m\u001b[1;33m\u001b[0m\u001b[0m\n",
      "\u001b[1;32m~\\Anaconda3\\lib\\site-packages\\bs4\\builder\\_html5lib.py\u001b[0m in \u001b[0;36mfeed\u001b[1;34m(self, markup)\u001b[0m\n\u001b[0;32m     85\u001b[0m             \u001b[1;32melse\u001b[0m\u001b[1;33m:\u001b[0m\u001b[1;33m\u001b[0m\u001b[1;33m\u001b[0m\u001b[0m\n\u001b[0;32m     86\u001b[0m                 \u001b[0mextra_kwargs\u001b[0m\u001b[1;33m[\u001b[0m\u001b[1;34m'encoding'\u001b[0m\u001b[1;33m]\u001b[0m \u001b[1;33m=\u001b[0m \u001b[0mself\u001b[0m\u001b[1;33m.\u001b[0m\u001b[0muser_specified_encoding\u001b[0m\u001b[1;33m\u001b[0m\u001b[1;33m\u001b[0m\u001b[0m\n\u001b[1;32m---> 87\u001b[1;33m         \u001b[0mdoc\u001b[0m \u001b[1;33m=\u001b[0m \u001b[0mparser\u001b[0m\u001b[1;33m.\u001b[0m\u001b[0mparse\u001b[0m\u001b[1;33m(\u001b[0m\u001b[0mmarkup\u001b[0m\u001b[1;33m,\u001b[0m \u001b[1;33m**\u001b[0m\u001b[0mextra_kwargs\u001b[0m\u001b[1;33m)\u001b[0m\u001b[1;33m\u001b[0m\u001b[1;33m\u001b[0m\u001b[0m\n\u001b[0m\u001b[0;32m     88\u001b[0m \u001b[1;33m\u001b[0m\u001b[0m\n\u001b[0;32m     89\u001b[0m         \u001b[1;31m# Set the character encoding detected by the tokenizer.\u001b[0m\u001b[1;33m\u001b[0m\u001b[1;33m\u001b[0m\u001b[1;33m\u001b[0m\u001b[0m\n",
      "\u001b[1;32m~\\Anaconda3\\lib\\site-packages\\html5lib\\html5parser.py\u001b[0m in \u001b[0;36mparse\u001b[1;34m(self, stream, *args, **kwargs)\u001b[0m\n\u001b[0;32m    282\u001b[0m \u001b[1;33m\u001b[0m\u001b[0m\n\u001b[0;32m    283\u001b[0m         \"\"\"\n\u001b[1;32m--> 284\u001b[1;33m         \u001b[0mself\u001b[0m\u001b[1;33m.\u001b[0m\u001b[0m_parse\u001b[0m\u001b[1;33m(\u001b[0m\u001b[0mstream\u001b[0m\u001b[1;33m,\u001b[0m \u001b[1;32mFalse\u001b[0m\u001b[1;33m,\u001b[0m \u001b[1;32mNone\u001b[0m\u001b[1;33m,\u001b[0m \u001b[1;33m*\u001b[0m\u001b[0margs\u001b[0m\u001b[1;33m,\u001b[0m \u001b[1;33m**\u001b[0m\u001b[0mkwargs\u001b[0m\u001b[1;33m)\u001b[0m\u001b[1;33m\u001b[0m\u001b[1;33m\u001b[0m\u001b[0m\n\u001b[0m\u001b[0;32m    285\u001b[0m         \u001b[1;32mreturn\u001b[0m \u001b[0mself\u001b[0m\u001b[1;33m.\u001b[0m\u001b[0mtree\u001b[0m\u001b[1;33m.\u001b[0m\u001b[0mgetDocument\u001b[0m\u001b[1;33m(\u001b[0m\u001b[1;33m)\u001b[0m\u001b[1;33m\u001b[0m\u001b[1;33m\u001b[0m\u001b[0m\n\u001b[0;32m    286\u001b[0m \u001b[1;33m\u001b[0m\u001b[0m\n",
      "\u001b[1;32m~\\Anaconda3\\lib\\site-packages\\html5lib\\html5parser.py\u001b[0m in \u001b[0;36m_parse\u001b[1;34m(self, stream, innerHTML, container, scripting, **kwargs)\u001b[0m\n\u001b[0;32m    131\u001b[0m \u001b[1;33m\u001b[0m\u001b[0m\n\u001b[0;32m    132\u001b[0m         \u001b[1;32mtry\u001b[0m\u001b[1;33m:\u001b[0m\u001b[1;33m\u001b[0m\u001b[1;33m\u001b[0m\u001b[0m\n\u001b[1;32m--> 133\u001b[1;33m             \u001b[0mself\u001b[0m\u001b[1;33m.\u001b[0m\u001b[0mmainLoop\u001b[0m\u001b[1;33m(\u001b[0m\u001b[1;33m)\u001b[0m\u001b[1;33m\u001b[0m\u001b[1;33m\u001b[0m\u001b[0m\n\u001b[0m\u001b[0;32m    134\u001b[0m         \u001b[1;32mexcept\u001b[0m \u001b[0m_ReparseException\u001b[0m\u001b[1;33m:\u001b[0m\u001b[1;33m\u001b[0m\u001b[1;33m\u001b[0m\u001b[0m\n\u001b[0;32m    135\u001b[0m             \u001b[0mself\u001b[0m\u001b[1;33m.\u001b[0m\u001b[0mreset\u001b[0m\u001b[1;33m(\u001b[0m\u001b[1;33m)\u001b[0m\u001b[1;33m\u001b[0m\u001b[1;33m\u001b[0m\u001b[0m\n",
      "\u001b[1;32m~\\Anaconda3\\lib\\site-packages\\html5lib\\html5parser.py\u001b[0m in \u001b[0;36mmainLoop\u001b[1;34m(self)\u001b[0m\n\u001b[0;32m    202\u001b[0m         \u001b[0mParseErrorToken\u001b[0m \u001b[1;33m=\u001b[0m \u001b[0mtokenTypes\u001b[0m\u001b[1;33m[\u001b[0m\u001b[1;34m\"ParseError\"\u001b[0m\u001b[1;33m]\u001b[0m\u001b[1;33m\u001b[0m\u001b[1;33m\u001b[0m\u001b[0m\n\u001b[0;32m    203\u001b[0m \u001b[1;33m\u001b[0m\u001b[0m\n\u001b[1;32m--> 204\u001b[1;33m         \u001b[1;32mfor\u001b[0m \u001b[0mtoken\u001b[0m \u001b[1;32min\u001b[0m \u001b[0mself\u001b[0m\u001b[1;33m.\u001b[0m\u001b[0mtokenizer\u001b[0m\u001b[1;33m:\u001b[0m\u001b[1;33m\u001b[0m\u001b[1;33m\u001b[0m\u001b[0m\n\u001b[0m\u001b[0;32m    205\u001b[0m             \u001b[0mprev_token\u001b[0m \u001b[1;33m=\u001b[0m \u001b[1;32mNone\u001b[0m\u001b[1;33m\u001b[0m\u001b[1;33m\u001b[0m\u001b[0m\n\u001b[0;32m    206\u001b[0m             \u001b[0mnew_token\u001b[0m \u001b[1;33m=\u001b[0m \u001b[0mtoken\u001b[0m\u001b[1;33m\u001b[0m\u001b[1;33m\u001b[0m\u001b[0m\n",
      "\u001b[1;32m~\\Anaconda3\\lib\\site-packages\\html5lib\\_tokenizer.py\u001b[0m in \u001b[0;36m__iter__\u001b[1;34m(self)\u001b[0m\n\u001b[0;32m     63\u001b[0m         \u001b[1;31m# Start processing. When EOF is reached self.state will return False\u001b[0m\u001b[1;33m\u001b[0m\u001b[1;33m\u001b[0m\u001b[1;33m\u001b[0m\u001b[0m\n\u001b[0;32m     64\u001b[0m         \u001b[1;31m# instead of True and the loop will terminate.\u001b[0m\u001b[1;33m\u001b[0m\u001b[1;33m\u001b[0m\u001b[1;33m\u001b[0m\u001b[0m\n\u001b[1;32m---> 65\u001b[1;33m         \u001b[1;32mwhile\u001b[0m \u001b[0mself\u001b[0m\u001b[1;33m.\u001b[0m\u001b[0mstate\u001b[0m\u001b[1;33m(\u001b[0m\u001b[1;33m)\u001b[0m\u001b[1;33m:\u001b[0m\u001b[1;33m\u001b[0m\u001b[1;33m\u001b[0m\u001b[0m\n\u001b[0m\u001b[0;32m     66\u001b[0m             \u001b[1;32mwhile\u001b[0m \u001b[0mself\u001b[0m\u001b[1;33m.\u001b[0m\u001b[0mstream\u001b[0m\u001b[1;33m.\u001b[0m\u001b[0merrors\u001b[0m\u001b[1;33m:\u001b[0m\u001b[1;33m\u001b[0m\u001b[1;33m\u001b[0m\u001b[0m\n\u001b[0;32m     67\u001b[0m                 \u001b[1;32myield\u001b[0m \u001b[1;33m{\u001b[0m\u001b[1;34m\"type\"\u001b[0m\u001b[1;33m:\u001b[0m \u001b[0mtokenTypes\u001b[0m\u001b[1;33m[\u001b[0m\u001b[1;34m\"ParseError\"\u001b[0m\u001b[1;33m]\u001b[0m\u001b[1;33m,\u001b[0m \u001b[1;34m\"data\"\u001b[0m\u001b[1;33m:\u001b[0m \u001b[0mself\u001b[0m\u001b[1;33m.\u001b[0m\u001b[0mstream\u001b[0m\u001b[1;33m.\u001b[0m\u001b[0merrors\u001b[0m\u001b[1;33m.\u001b[0m\u001b[0mpop\u001b[0m\u001b[1;33m(\u001b[0m\u001b[1;36m0\u001b[0m\u001b[1;33m)\u001b[0m\u001b[1;33m}\u001b[0m\u001b[1;33m\u001b[0m\u001b[1;33m\u001b[0m\u001b[0m\n",
      "\u001b[1;32m~\\Anaconda3\\lib\\site-packages\\html5lib\\_tokenizer.py\u001b[0m in \u001b[0;36mattributeValueDoubleQuotedState\u001b[1;34m(self)\u001b[0m\n\u001b[0;32m   1006\u001b[0m \u001b[1;33m\u001b[0m\u001b[0m\n\u001b[0;32m   1007\u001b[0m     \u001b[1;32mdef\u001b[0m \u001b[0mattributeValueDoubleQuotedState\u001b[0m\u001b[1;33m(\u001b[0m\u001b[0mself\u001b[0m\u001b[1;33m)\u001b[0m\u001b[1;33m:\u001b[0m\u001b[1;33m\u001b[0m\u001b[1;33m\u001b[0m\u001b[0m\n\u001b[1;32m-> 1008\u001b[1;33m         \u001b[0mdata\u001b[0m \u001b[1;33m=\u001b[0m \u001b[0mself\u001b[0m\u001b[1;33m.\u001b[0m\u001b[0mstream\u001b[0m\u001b[1;33m.\u001b[0m\u001b[0mchar\u001b[0m\u001b[1;33m(\u001b[0m\u001b[1;33m)\u001b[0m\u001b[1;33m\u001b[0m\u001b[1;33m\u001b[0m\u001b[0m\n\u001b[0m\u001b[0;32m   1009\u001b[0m         \u001b[1;32mif\u001b[0m \u001b[0mdata\u001b[0m \u001b[1;33m==\u001b[0m \u001b[1;34m\"\\\"\"\u001b[0m\u001b[1;33m:\u001b[0m\u001b[1;33m\u001b[0m\u001b[1;33m\u001b[0m\u001b[0m\n\u001b[0;32m   1010\u001b[0m             \u001b[0mself\u001b[0m\u001b[1;33m.\u001b[0m\u001b[0mstate\u001b[0m \u001b[1;33m=\u001b[0m \u001b[0mself\u001b[0m\u001b[1;33m.\u001b[0m\u001b[0mafterAttributeValueState\u001b[0m\u001b[1;33m\u001b[0m\u001b[1;33m\u001b[0m\u001b[0m\n",
      "\u001b[1;32m~\\Anaconda3\\lib\\site-packages\\html5lib\\_inputstream.py\u001b[0m in \u001b[0;36mchar\u001b[1;34m(self)\u001b[0m\n\u001b[0;32m    243\u001b[0m         \u001b[0mchunkOffset\u001b[0m \u001b[1;33m=\u001b[0m \u001b[0mself\u001b[0m\u001b[1;33m.\u001b[0m\u001b[0mchunkOffset\u001b[0m\u001b[1;33m\u001b[0m\u001b[1;33m\u001b[0m\u001b[0m\n\u001b[0;32m    244\u001b[0m         \u001b[0mchar\u001b[0m \u001b[1;33m=\u001b[0m \u001b[0mself\u001b[0m\u001b[1;33m.\u001b[0m\u001b[0mchunk\u001b[0m\u001b[1;33m[\u001b[0m\u001b[0mchunkOffset\u001b[0m\u001b[1;33m]\u001b[0m\u001b[1;33m\u001b[0m\u001b[1;33m\u001b[0m\u001b[0m\n\u001b[1;32m--> 245\u001b[1;33m         \u001b[0mself\u001b[0m\u001b[1;33m.\u001b[0m\u001b[0mchunkOffset\u001b[0m \u001b[1;33m=\u001b[0m \u001b[0mchunkOffset\u001b[0m \u001b[1;33m+\u001b[0m \u001b[1;36m1\u001b[0m\u001b[1;33m\u001b[0m\u001b[1;33m\u001b[0m\u001b[0m\n\u001b[0m\u001b[0;32m    246\u001b[0m \u001b[1;33m\u001b[0m\u001b[0m\n\u001b[0;32m    247\u001b[0m         \u001b[1;32mreturn\u001b[0m \u001b[0mchar\u001b[0m\u001b[1;33m\u001b[0m\u001b[1;33m\u001b[0m\u001b[0m\n",
      "\u001b[1;31mKeyboardInterrupt\u001b[0m: "
     ]
    }
   ],
   "source": [
    "for p in x:\n",
    "    lin = get(p)\n",
    "    teste = BeautifulSoup(lin.text, 'html5lib')\n",
    "    segutitulo = teste.find('title')\n",
    "    print(f'Pagina Secundária: {segutitulo.text}')"
   ]
  },
  {
   "cell_type": "code",
   "execution_count": null,
   "metadata": {},
   "outputs": [],
   "source": []
  }
 ],
 "metadata": {
  "kernelspec": {
   "display_name": "Python 3",
   "language": "python",
   "name": "python3"
  },
  "language_info": {
   "codemirror_mode": {
    "name": "ipython",
    "version": 3
   },
   "file_extension": ".py",
   "mimetype": "text/x-python",
   "name": "python",
   "nbconvert_exporter": "python",
   "pygments_lexer": "ipython3",
   "version": "3.8.5"
  }
 },
 "nbformat": 4,
 "nbformat_minor": 4
}
